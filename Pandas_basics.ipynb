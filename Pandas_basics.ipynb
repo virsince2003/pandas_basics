{
 "cells": [
  {
   "cell_type": "markdown",
   "id": "7154a1fe-c09f-4916-8692-709a5d34a4a0",
   "metadata": {},
   "source": [
    "Q1. Create a Pandas Series that contains the following data: 4, 8, 15, 16, 23, and 42. Then, print the series."
   ]
  },
  {
   "cell_type": "code",
   "execution_count": 10,
   "id": "53372f0f-d2ec-4e39-9786-0b73d3b53b91",
   "metadata": {},
   "outputs": [
    {
     "data": {
      "text/plain": [
       "0     4\n",
       "1     8\n",
       "2    15\n",
       "3    16\n",
       "4    23\n",
       "5    42\n",
       "dtype: int64"
      ]
     },
     "execution_count": 10,
     "metadata": {},
     "output_type": "execute_result"
    }
   ],
   "source": [
    "import pandas as pd\n",
    "series=pd.Series([4,8,15,16,23,42])\n",
    "series"
   ]
  },
  {
   "cell_type": "markdown",
   "id": "a275545e-3af7-4835-83ac-c1442172fe8f",
   "metadata": {},
   "source": [
    "Q2. Create a variable of list type containing 10 elements in it, and apply pandas.Series function on the\n",
    "variable print it."
   ]
  },
  {
   "cell_type": "code",
   "execution_count": 27,
   "id": "d9afe5a4-4ca2-4af4-a5b9-231b083f07ad",
   "metadata": {},
   "outputs": [
    {
     "data": {
      "text/plain": [
       "0     1\n",
       "1     2\n",
       "2     3\n",
       "3     4\n",
       "4     5\n",
       "5     6\n",
       "6     7\n",
       "7     8\n",
       "8     9\n",
       "9    10\n",
       "dtype: int64"
      ]
     },
     "execution_count": 27,
     "metadata": {},
     "output_type": "execute_result"
    }
   ],
   "source": [
    "lst=[1,2,3,4,5,6,7,8,9,10]\n",
    "pd.Series(lst)"
   ]
  },
  {
   "cell_type": "markdown",
   "id": "4dd2fb85-0b00-406f-abd3-697834bd336e",
   "metadata": {},
   "source": [
    "Q3. Create a Pandas DataFrame that contains the following data:"
   ]
  },
  {
   "cell_type": "code",
   "execution_count": 25,
   "id": "e9bf41ea-e907-48c1-a5e0-d80151710b51",
   "metadata": {},
   "outputs": [
    {
     "data": {
      "text/html": [
       "<div>\n",
       "<style scoped>\n",
       "    .dataframe tbody tr th:only-of-type {\n",
       "        vertical-align: middle;\n",
       "    }\n",
       "\n",
       "    .dataframe tbody tr th {\n",
       "        vertical-align: top;\n",
       "    }\n",
       "\n",
       "    .dataframe thead th {\n",
       "        text-align: right;\n",
       "    }\n",
       "</style>\n",
       "<table border=\"1\" class=\"dataframe\">\n",
       "  <thead>\n",
       "    <tr style=\"text-align: right;\">\n",
       "      <th></th>\n",
       "      <th>Age</th>\n",
       "      <th>Gender</th>\n",
       "    </tr>\n",
       "    <tr>\n",
       "      <th>Name</th>\n",
       "      <th></th>\n",
       "      <th></th>\n",
       "    </tr>\n",
       "  </thead>\n",
       "  <tbody>\n",
       "    <tr>\n",
       "      <th>Alice</th>\n",
       "      <td>25</td>\n",
       "      <td>Female</td>\n",
       "    </tr>\n",
       "    <tr>\n",
       "      <th>Bob</th>\n",
       "      <td>30</td>\n",
       "      <td>Male</td>\n",
       "    </tr>\n",
       "    <tr>\n",
       "      <th>Claire</th>\n",
       "      <td>27</td>\n",
       "      <td>Female</td>\n",
       "    </tr>\n",
       "  </tbody>\n",
       "</table>\n",
       "</div>"
      ],
      "text/plain": [
       "        Age  Gender\n",
       "Name               \n",
       "Alice    25  Female\n",
       "Bob      30    Male\n",
       "Claire   27  Female"
      ]
     },
     "execution_count": 25,
     "metadata": {},
     "output_type": "execute_result"
    }
   ],
   "source": [
    "data={\n",
    "    'Name':['Alice','Bob','Claire'],\n",
    "    'Age' : [25,30,27],\n",
    "    'Gender':['Female','Male','Female']\n",
    "}\n",
    "df=pd.DataFrame(data)\n",
    "df.set_index('Name')"
   ]
  },
  {
   "cell_type": "markdown",
   "id": "f8f0235e-eb25-4710-b8f0-93ac1b37facd",
   "metadata": {},
   "source": [
    "Q4. What is ‘DataFrame’ in pandas and how is it different from pandas.series? Explain with an example."
   ]
  },
  {
   "cell_type": "raw",
   "id": "f8ba3992-9ac7-4565-bd56-ebb320bbc37b",
   "metadata": {},
   "source": [
    " DataFrame is a two-dimensional labeled data structure that consists of columns of different types. It is similar to a table or spreadsheet in which data is organized in rows and columns. Each column in a DataFrame is a pandas Series, and together they form a DataFrame.\n",
    " A DataFrame allows for more complex data manipulation and analysis compared to a Series because it can store multiple columns of data and supports various operations such as indexing, merging, grouping, and reshaping. It provides a convenient way to work with structured data and perform data analysis tasks.\n",
    "  Series series that contains a sequence of integers. It is a one-dimensional labeled array where each element has an index."
   ]
  },
  {
   "cell_type": "markdown",
   "id": "5ff81bb9-e5e9-47c8-a881-39920249b49a",
   "metadata": {},
   "source": [
    "Q5. What are some common functions you can use to manipulate data in a Pandas DataFrame? Can\n",
    "you give an example of when you might use one of these functions?"
   ]
  },
  {
   "cell_type": "code",
   "execution_count": 32,
   "id": "717b0d47-4d98-4724-a5ac-e9ff3ec11396",
   "metadata": {},
   "outputs": [
    {
     "name": "stdout",
     "output_type": "stream",
     "text": [
      "      Name  Age      City\n",
      "0    Alice   25  New York\n",
      "1      Bob   30    London\n",
      "2  Charlie   35     Paris\n",
      "3    David   28    Sydney\n",
      "4      Eve   32     Tokyo\n",
      "<class 'pandas.core.frame.DataFrame'>\n",
      "RangeIndex: 5 entries, 0 to 4\n",
      "Data columns (total 3 columns):\n",
      " #   Column  Non-Null Count  Dtype \n",
      "---  ------  --------------  ----- \n",
      " 0   Name    5 non-null      object\n",
      " 1   Age     5 non-null      int64 \n",
      " 2   City    5 non-null      object\n",
      "dtypes: int64(1), object(2)\n",
      "memory usage: 248.0+ bytes\n"
     ]
    },
    {
     "data": {
      "text/plain": [
       "City\n",
       "London      30.0\n",
       "New York    25.0\n",
       "Paris       35.0\n",
       "Sydney      28.0\n",
       "Tokyo       32.0\n",
       "Name: Age, dtype: float64"
      ]
     },
     "execution_count": 32,
     "metadata": {},
     "output_type": "execute_result"
    }
   ],
   "source": [
    "data = {\n",
    "    'Name': ['Alice', 'Bob', 'Charlie', 'David', 'Eve'],\n",
    "    'Age': [25, 30, 35, 28, 32],\n",
    "    'City': ['New York', 'London', 'Paris', 'Sydney', 'Tokyo']\n",
    "}\n",
    "df = pd.DataFrame(data)\n",
    "\n",
    "# Displaying the first few rows of the DataFram\n",
    "print(df.head())\n",
    "\n",
    "# Displaying summary information about the DataFrame\n",
    "df.info()\n",
    "\n",
    "# Generating descriptive statistics of numerical columns\n",
    "df.describe()\n",
    "\n",
    "# Counting the frequency of values in the 'City' column\n",
    "df['City'].value_counts()\n",
    "\n",
    "# Grouping data by 'City' and calculating the mean age for each city\n",
    "grouped_df = df.groupby('City')['Age'].mean()\n",
    "grouped_df\n"
   ]
  },
  {
   "cell_type": "markdown",
   "id": "2cc02d79-31bd-4488-95a7-8549e7c155db",
   "metadata": {},
   "source": [
    "Q6. Which of the following is mutable in nature Series, DataFrame, Panel?"
   ]
  },
  {
   "cell_type": "raw",
   "id": "8c286a4c-5297-4508-9002-2df9a0eaee74",
   "metadata": {},
   "source": [
    "In pandas, both Series and DataFrame are mutable in nature, while Panel is immutable."
   ]
  },
  {
   "cell_type": "markdown",
   "id": "22fb2e10-6138-4bba-b818-452a859b2b3f",
   "metadata": {},
   "source": [
    "Q7. Create a DataFrame using multiple Series. Explain with an example."
   ]
  },
  {
   "cell_type": "code",
   "execution_count": 29,
   "id": "ff98b14f-bd2f-4cc8-9538-6dbc1418f4ef",
   "metadata": {},
   "outputs": [
    {
     "data": {
      "text/html": [
       "<div>\n",
       "<style scoped>\n",
       "    .dataframe tbody tr th:only-of-type {\n",
       "        vertical-align: middle;\n",
       "    }\n",
       "\n",
       "    .dataframe tbody tr th {\n",
       "        vertical-align: top;\n",
       "    }\n",
       "\n",
       "    .dataframe thead th {\n",
       "        text-align: right;\n",
       "    }\n",
       "</style>\n",
       "<table border=\"1\" class=\"dataframe\">\n",
       "  <thead>\n",
       "    <tr style=\"text-align: right;\">\n",
       "      <th></th>\n",
       "      <th>Name</th>\n",
       "      <th>Age</th>\n",
       "    </tr>\n",
       "  </thead>\n",
       "  <tbody>\n",
       "    <tr>\n",
       "      <th>0</th>\n",
       "      <td>Alice</td>\n",
       "      <td>25</td>\n",
       "    </tr>\n",
       "    <tr>\n",
       "      <th>1</th>\n",
       "      <td>Bob</td>\n",
       "      <td>30</td>\n",
       "    </tr>\n",
       "    <tr>\n",
       "      <th>2</th>\n",
       "      <td>Charlie</td>\n",
       "      <td>35</td>\n",
       "    </tr>\n",
       "  </tbody>\n",
       "</table>\n",
       "</div>"
      ],
      "text/plain": [
       "      Name  Age\n",
       "0    Alice   25\n",
       "1      Bob   30\n",
       "2  Charlie   35"
      ]
     },
     "execution_count": 29,
     "metadata": {},
     "output_type": "execute_result"
    }
   ],
   "source": [
    "name_series = pd.Series(['Alice', 'Bob', 'Charlie'])\n",
    "age_series = pd.Series([25, 30, 35])\n",
    "data = {\n",
    "    'Name': name_series,\n",
    "    'Age': age_series\n",
    "}\n",
    "df = pd.DataFrame(data)\n",
    "df\n"
   ]
  }
 ],
 "metadata": {
  "kernelspec": {
   "display_name": "Python 3 (ipykernel)",
   "language": "python",
   "name": "python3"
  },
  "language_info": {
   "codemirror_mode": {
    "name": "ipython",
    "version": 3
   },
   "file_extension": ".py",
   "mimetype": "text/x-python",
   "name": "python",
   "nbconvert_exporter": "python",
   "pygments_lexer": "ipython3",
   "version": "3.10.8"
  }
 },
 "nbformat": 4,
 "nbformat_minor": 5
}
